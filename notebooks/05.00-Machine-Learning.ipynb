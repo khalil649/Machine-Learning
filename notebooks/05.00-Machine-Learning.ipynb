{
  "cells": [
    {
      "cell_type": "markdown",
      "metadata": {
        "id": "y4LIwGAJRZfr"
      },
      "source": [
        "# Machine Learning"
      ]
    },
    {
      "cell_type": "markdown",
      "metadata": {
        "id": "yqmBjR18RZft"
      },
      "source": [
        "This final part is an introduction to the very broad topic of machine learning, mainly via Python's [Scikit-Learn](http://scikit-learn.org) package.\n",
        "You can think of machine learning as a class of algorithms that allow a program to detect particular patterns in a dataset, and thus \"learn\" from the data to draw inferences from it.\n",
        "This is not meant to be a comprehensive introduction to the field of machine learning; that is a large subject and necessitates a more technical approach than we take here.\n",
        "Nor is it meant to be a comprehensive manual for the use of the Scikit-Learn package (for this, you can refer to the resources listed in [Further Machine Learning Resources](05.15-Learning-More.ipynb)).\n",
        "Rather, the goals here are:\n",
        "\n",
        "- To introduce the fundamental vocabulary and concepts of machine learning\n",
        "- To introduce the Scikit-Learn API and show some examples of its use\n",
        "- To take a deeper dive into the details of several of the more important classical machine learning approaches, and develop an intuition into how they work and when and where they are applicable\n",
        "\n",
        "Much of this material is drawn from the Scikit-Learn tutorials and workshops I have given on several occasions at PyCon, SciPy, PyData, and other conferences.\n",
        "Any clarity in the following pages is likely due to the many workshop participants and co-instructors who have given me valuable feedback on this material over the years!"
      ]
    },
    {
      "cell_type": "code",
      "source": [
        "import pandas as pd\n",
        "import numpy as np\n",
        "import matplotlib.pyplot as plt\n",
        "import seaborn as sns\n",
        "from sklearn.model_selection import train_test_split\n",
        "from sklearn.preprocessing import StandardScaler, OneHotEncoder\n",
        "from sklearn.compose import ColumnTransformer\n",
        "from sklearn.pipeline import Pipeline\n",
        "from sklearn.impute import SimpleImputer\n",
        "from sklearn.linear_model import LogisticRegression\n",
        "from sklearn.ensemble import RandomForestClassifier\n",
        "from xgboost import XGBClassifier\n",
        "from sklearn.metrics import classification_report, roc_auc_score, roc_curve, confusion_matrix, ConfusionMatrixDisplay\n",
        "from sklearn.linear_model import LogisticRegression\n",
        "from sklearn.naive_bayes import MultinomialNB\n",
        "import dask.dataframe as dd\n",
        "\n",
        "#model = RandomForestClassifier(n_jobs=-1)\n",
        "\n",
        "from sklearn.metrics import (\n",
        "    accuracy_score, precision_score, recall_score, f1_score,\n",
        "    roc_auc_score, confusion_matrix, ConfusionMatrixDisplay,\n",
        "    classification_report, roc_curve\n",
        ")\n",
        "\n",
        "# Load data with low_memory=False\n",
        "df = pd.read_csv('data/flights_delay.csv', low_memory=False)\n",
        "#df = dd.read_csv('flights_delay.csv')\n",
        "\n",
        "# Convert known problematic columns to string to avoid int/str mix\n",
        "df['DEPARTURE_TIME'] = df['DEPARTURE_TIME'].astype(str)\n",
        "df['SCHEDULED_DEPARTURE'] = df['SCHEDULED_DEPARTURE'].astype(str)\n",
        "\n",
        "# Create target variable\n",
        "df['ARR_DEL15'] = df['ARRIVAL_DELAY'].apply(lambda x: 1 if pd.notna(x) and x > 15 else 0)\n",
        "\n",
        "# Drop irrelevant or redundant columns\n",
        "df.drop(columns=[\n",
        "    'FLIGHT_NUMBER', 'TAIL_NUMBER', 'YEAR', 'CANCELLED', 'CANCELLATION_REASON',\n",
        "    'SCHEDULED_ARRIVAL', 'ARRIVAL_TIME', 'SCHEDULED_DEPARTURE', 'DEPARTURE_TIME'\n",
        "], inplace=True)\n",
        "\n",
        "# Feature selection\n",
        "features = [\n",
        "    'MONTH', 'DAY', 'DAY_OF_WEEK', 'AIRLINE', 'ORIGIN_AIRPORT', 'DESTINATION_AIRPORT',\n",
        "    'DEPARTURE_DELAY', 'DISTANCE', 'AIR_SYSTEM_DELAY', 'SECURITY_DELAY',\n",
        "    'AIRLINE_DELAY', 'LATE_AIRCRAFT_DELAY', 'WEATHER_DELAY'\n",
        "]\n",
        "X = df[features]\n",
        "y = df['ARR_DEL15']\n",
        "\n",
        "# Train-test split\n",
        "X_train, X_test, y_train, y_test = train_test_split(\n",
        "    X, y, test_size=0.2, random_state=42, stratify=y\n",
        ")\n",
        "\n",
        "# Clean numeric features\n",
        "numeric_features = X.select_dtypes(include=['int64', 'float64']).columns\n",
        "categorical_features = X.select_dtypes(include=['object']).columns\n",
        "\n",
        "numeric_transformer = Pipeline(steps=[\n",
        "    ('imputer', SimpleImputer(strategy='median')),\n",
        "    ('scaler', StandardScaler())\n",
        "])\n",
        "\n",
        "categorical_transformer = Pipeline(steps=[\n",
        "    ('imputer', SimpleImputer(strategy='constant', fill_value='missing')),\n",
        "    ('onehot', OneHotEncoder(handle_unknown='ignore'))\n",
        "])\n",
        "\n",
        "preprocessor = ColumnTransformer(\n",
        "    transformers=[\n",
        "        ('num', numeric_transformer, numeric_features),\n",
        "        ('cat', categorical_transformer, categorical_features)\n",
        "    ])\n",
        "\n",
        "# Model pipelines\n",
        "from sklearn.linear_model import LogisticRegression\n",
        "from sklearn.ensemble import RandomForestClassifier\n",
        "from xgboost import XGBClassifier\n",
        "\n",
        "models = {\n",
        "    \"Logistic Regression\": LogisticRegression(max_iter=1000),\n",
        "    \"Random Forest\": RandomForestClassifier(n_estimators=100, random_state=42),\n",
        "    \"XGBoost\": XGBClassifier(use_label_encoder=False, eval_metric='logloss')\n",
        "}\n",
        "\n",
        "model = RandomForestClassifier(n_jobs=-1)\n",
        "\n",
        "results = {}\n",
        "\n",
        "for name, model in models.items():\n",
        "    print(f\"\\nTraining {name}...\")\n",
        "\n",
        "    # Build full pipeline\n",
        "    full_pipeline = Pipeline(steps=[\n",
        "        ('preprocessor', preprocessor),\n",
        "        ('classifier', model)\n",
        "    ])\n",
        "\n",
        "    # Train\n",
        "    full_pipeline.fit(X_train, y_train)\n",
        "\n",
        "    # Predict\n",
        "    y_pred = full_pipeline.predict(X_test)\n",
        "    y_proba = full_pipeline.predict_proba(X_test)[:, 1]\n",
        "\n",
        "    # Evaluate\n",
        "    results[name] = {\n",
        "        'pipeline': full_pipeline,\n",
        "        'accuracy': accuracy_score(y_test, y_pred),\n",
        "        'precision': precision_score(y_test, y_pred),\n",
        "        'recall': recall_score(y_test, y_pred),\n",
        "        'f1': f1_score(y_test, y_pred),\n",
        "        'roc_auc': roc_auc_score(y_test, y_proba),\n",
        "        'report': classification_report(y_test, y_pred),\n",
        "        'proba': y_proba\n",
        "    }\n",
        "\n",
        "    print(\"Accuracy:\", results[name]['accuracy'])\n",
        "    print(\"Precision:\", results[name]['precision'])\n",
        "    print(\"Recall:\", results[name]['recall'])\n",
        "    print(\"F1 Score:\", results[name]['f1'])\n",
        "    print(\"ROC AUC:\", results[name]['roc_auc'])\n",
        "    print(\"Classification Report:\\n\", results[name]['report'])\n",
        "\n",
        "    # Confusion matrix\n",
        "    cm = confusion_matrix(y_test, y_pred)\n",
        "    disp = ConfusionMatrixDisplay(confusion_matrix=cm)\n",
        "    disp.plot()\n",
        "    plt.title(f\"Confusion Matrix - {name}\")\n",
        "    plt.savefig(f\"figures/confusion_matrix_{name.replace(' ', '_')}.png\")\n",
        "    plt.show()\n",
        "\n",
        "# Plot ROC Curve\n",
        "plt.figure(figsize=(8, 6))\n",
        "for name in models:\n",
        "    fpr, tpr, _ = roc_curve(y_test, results[name]['proba'])\n",
        "    plt.plot(fpr, tpr, label=f\"{name} (AUC = {results[name]['roc_auc']:.2f}\")\n",
        "\n",
        "plt.plot([0, 1], [0, 1], 'k--')\n",
        "plt.xlabel('False Positive Rate')\n",
        "plt.ylabel('True Positive Rate')\n",
        "plt.title('ROC Curves')\n",
        "plt.legend(loc=\"lower right\")\n",
        "plt.grid(True)\n",
        "plt.savefig('figures/flight_roc_curve.png')\n",
        "plt.show()\n"
      ],
      "metadata": {
        "id": "stMyFNN0RdL1",
        "outputId": "942aca5c-91f8-4ab9-e015-455e9c6a9bce",
        "colab": {
          "base_uri": "https://localhost:8080/",
          "height": 802
        }
      },
      "execution_count": null,
      "outputs": [
        {
          "output_type": "stream",
          "name": "stdout",
          "text": [
            "\n",
            "Training Logistic Regression...\n",
            "Accuracy: 0.983863190716513\n",
            "Precision: 0.9948215692896544\n",
            "Recall: 0.9509308081351555\n",
            "F1 Score: 0.972381161971831\n",
            "ROC AUC: 0.9966716285854347\n",
            "Classification Report:\n",
            "               precision    recall  f1-score   support\n",
            "\n",
            "           0       0.98      1.00      0.99     21816\n",
            "           1       0.99      0.95      0.97      9293\n",
            "\n",
            "    accuracy                           0.98     31109\n",
            "   macro avg       0.99      0.97      0.98     31109\n",
            "weighted avg       0.98      0.98      0.98     31109\n",
            "\n"
          ]
        },
        {
          "output_type": "display_data",
          "data": {
            "text/plain": [
              "<Figure size 640x480 with 2 Axes>"
            ],
            "image/png": "[encoded data removed]"
          },
          "metadata": {}
        },
        {
          "output_type": "stream",
          "name": "stdout",
          "text": [
            "\n",
            "Training Random Forest...\n"
          ]
        }
      ]
    }
  ],
  "metadata": {
    "anaconda-cloud": {},
    "jupytext": {
      "formats": "ipynb,md"
    },
    "kernelspec": {
      "display_name": "Python 3 (ipykernel)",
      "language": "python",
      "name": "python3"
    },
    "language_info": {
      "codemirror_mode": {
        "name": "ipython",
        "version": 3
      },
      "file_extension": ".py",
      "mimetype": "text/x-python",
      "name": "python",
      "nbconvert_exporter": "python",
      "pygments_lexer": "ipython3",
      "version": "3.9.2"
    },
    "colab": {
      "provenance": []
    }
  },
  "nbformat": 4,
  "nbformat_minor": 0
}